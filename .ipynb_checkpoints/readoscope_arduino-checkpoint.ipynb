{
 "cells": [
  {
   "cell_type": "markdown",
   "metadata": {},
   "source": [
    "# Oscilloscope x Arduino\n",
    "\n",
    "### Python Script\n",
    "\n",
    "This is a python script to communicate between an Arduino and an Oscilloscope to perform a resistance sweep. A digital potentiometer (Model *INSERT MODEL HERE* ) is controlled by the Arduino. The code for which can be found in `digipot_python_control.ino`\n",
    "\n",
    "\n",
    "### To Use\n",
    "\n",
    "Only run each cell once. Press `shift + enter` to run cells. Make sure you read the comment in the cell before running it.\n"
   ]
  },
  {
   "cell_type": "code",
   "execution_count": null,
   "metadata": {},
   "outputs": [],
   "source": [
    "#import necessary libraries\n",
    "\n",
    "import visa\n",
    "import numpy as np\n",
    "import matplotlib.pyplot as plt\n",
    "import scipy.io\n",
    "import scipy.signal\n",
    "import pandas as pd\n",
    "import datetime\n",
    "from time import sleep\n",
    "import serial\n",
    "import os\n",
    "%matplotlib notebook"
   ]
  },
  {
   "cell_type": "code",
   "execution_count": null,
   "metadata": {},
   "outputs": [],
   "source": [
    "d = datetime.datetime.today()"
   ]
  },
  {
   "cell_type": "code",
   "execution_count": null,
   "metadata": {},
   "outputs": [],
   "source": [
    "piezosize = '750um'\n",
    "date = '{}{}{}'.format(d.month,d.day,d.year)\n",
    "differential_harvest = False"
   ]
  },
  {
   "cell_type": "code",
   "execution_count": null,
   "metadata": {},
   "outputs": [],
   "source": [
    "#RUN THIS ONLY ONCE\n",
    "filename = date + 'sweep'\n",
    "os.makedirs(filename)"
   ]
  },
  {
   "cell_type": "markdown",
   "metadata": {},
   "source": [
    "***\n",
    "## Define Necessary Functions to perform Acquisition\n"
   ]
  },
  {
   "cell_type": "markdown",
   "metadata": {},
   "source": [
    "### Get particular channel's waveform data"
   ]
  },
  {
   "cell_type": "code",
   "execution_count": null,
   "metadata": {},
   "outputs": [],
   "source": [
    "# Gets waveform data with params CHANNEL and DATANAME, where CHANNEL is the channel that contains DATANAME, \n",
    "# COUNT is to keep track of number of iterations\n",
    "# Ex: channel 4 contains the backscatter\n",
    "    \n",
    "def getwaveform(channel,dataname,count,scopedf):\n",
    "    scope.write(':WAVEFORM:SOURCE CHAN'+ channel)\n",
    "    scope.write(':WAVeform:FORMat WORD')\n",
    "    scope.write(':WAVeform:BYTeorder LSBFirst')\n",
    "    scope.write(':WAVeform:POINts 160000')\n",
    "    scope.write(':WAVeform:POINts:MODE MAX')\n",
    "    scope.write(':WAVeform:UNSigned 0')\n",
    "\n",
    "    y_inc = float(scope.query(':WAVeform:YINCrement?'))\n",
    "    y_or = float(scope.query(':WAVeform:YORigin?'))\n",
    "    x_inc = float(scope.query(':WAVeform:XINCrement?'))\n",
    "    x_or = float(scope.query(':WAVeform:XORigin?'))\n",
    "    y_ref = float(scope.query(':WAveform:YREFerence?'))\n",
    "    waveform = scope.query_binary_values(':WAVeform:DATA?', 'h', is_big_endian=False, container=np.array)\n",
    "\n",
    "    x = x_inc * np.array([i for i in range(len(waveform))])\n",
    "    y = (y_inc*(waveform - y_ref)) + y_or\n",
    "    \n",
    "    if count == 0:\n",
    "        scopedf['time'] = x\n",
    "    \n",
    "    scopedf[dataname] = y\n",
    "    return scopedf"
   ]
  },
  {
   "cell_type": "markdown",
   "metadata": {},
   "source": [
    "### Get dataframe with all data for particular load"
   ]
  },
  {
   "cell_type": "code",
   "execution_count": null,
   "metadata": {},
   "outputs": [],
   "source": [
    "#Builds Dataframe with each channel for a particular LOAD\n",
    "\n",
    "def getscopedf(load):\n",
    "    count = 0\n",
    "    scopedf = pd.DataFrame(columns = ['time','tx','harvest','backscatter'])\n",
    "    scopedf = getwaveform('1','tx',count,scopedf)\n",
    "    count +=1\n",
    "    scopedf = getwaveform('2','backscatter',count,scopedf)\n",
    "    scopedf = getwaveform('3','v1',count,scopedf)\n",
    "    \n",
    "    if differential_harvest:\n",
    "        scopedf =  getwaveform('4','v2',count,scopedf)\n",
    "        scopedf['harvest'] = scopedf['v2']-scopedf['v1']\n",
    "        scopedf = scopedf.drop(['v1','v2'],axis = 1)\n",
    "    else:\n",
    "        scopedf['harvest'] = scopedf['v1']\n",
    "        scopedf = scopedf.drop(['v1'],axis = 1)\n",
    "    \n",
    "    datafilename = '{}sweep/scopeCapture_{}_{}_{}.csv'.format(date,date,piezosize,load)\n",
    "    scopedf.to_csv(datafilename)"
   ]
  },
  {
   "cell_type": "markdown",
   "metadata": {},
   "source": [
    "***"
   ]
  },
  {
   "cell_type": "markdown",
   "metadata": {},
   "source": [
    "#### Find relationship between time step and resistance values"
   ]
  },
  {
   "cell_type": "code",
   "execution_count": null,
   "metadata": {
    "scrolled": false
   },
   "outputs": [],
   "source": [
    "rs = [504.1,691,865,1042,1217,1389,1562,1735,1906,2076,2247,2420]\n",
    "import scipy\n",
    "slope, intercept, _, _ , _ = scipy.stats.linregress(range(len(rs)),rs)\n",
    "plt.plot(rs,'r*')\n",
    "rsn = slope*np.array(range(len(rs))) + intercept\n",
    "plt.plot(rsn,label = \"y = {:.2f}x + {:.2f}\".format(slope,intercept))\n",
    "print(slope,intercept)\n",
    "plt.title(\"Resistance vs Time step\")\n",
    "plt.xlabel(\"Time step\")\n",
    "plt.ylabel(\"Resistance (Ohms)\")\n",
    "plt.legend()\n"
   ]
  },
  {
   "cell_type": "markdown",
   "metadata": {},
   "source": [
    "***"
   ]
  },
  {
   "cell_type": "markdown",
   "metadata": {},
   "source": [
    "## Establish Connection with Arduino and Oscilloscope"
   ]
  },
  {
   "cell_type": "code",
   "execution_count": null,
   "metadata": {
    "scrolled": false
   },
   "outputs": [],
   "source": [
    "#Establish Connection to Oscilloscope\n",
    "\n",
    "VISA_ADDRESS = 'USB0::10893::5990::MY55440772::0::INSTR'\n",
    "rm = visa.ResourceManager('@py')\n",
    "scope = rm.open_resource(VISA_ADDRESS)\n",
    "print(\"Connected to \" + scope.query(\"*IDN?\"))"
   ]
  },
  {
   "cell_type": "code",
   "execution_count": null,
   "metadata": {},
   "outputs": [],
   "source": [
    "# Establish the connection to Arduino on a specific port.\n",
    "# Find port by looking at the bottom left of the Arduino IDE. \n",
    "# Ensure baud rate is same here as in Arduino setup function\n",
    "\n",
    "ser = serial.Serial('/dev/cu.usbmodem14101', 9600) \n",
    "print(\"Connected to Arduino\")"
   ]
  },
  {
   "cell_type": "markdown",
   "metadata": {},
   "source": [
    "## Set Up Variables and Begin Load Sweep"
   ]
  },
  {
   "cell_type": "code",
   "execution_count": null,
   "metadata": {},
   "outputs": [],
   "source": [
    "#Do Short Condition (ONLY RUN THIS CELL IF THE ELECTRODES ARE ACTUALLY SHORTED)\n",
    "getscopedf('short')"
   ]
  },
  {
   "cell_type": "code",
   "execution_count": null,
   "metadata": {},
   "outputs": [],
   "source": [
    "#Do Open Condition (ONLY RUN THIS CELL IF THE ELECTRODES ARE ACTUALLY OPEN)\n",
    "getscopedf('open')"
   ]
  },
  {
   "cell_type": "code",
   "execution_count": null,
   "metadata": {},
   "outputs": [],
   "source": [
    "#define control bytes to communicate between python and Arduino\n",
    "\n",
    "startbyte = bytes(chr(48),'ascii') #'0'\n",
    "proceedbyte = bytes(chr(49),'ascii') #'1'\n",
    "finishedbyte = bytes(chr(90),'ascii') #'Z'"
   ]
  },
  {
   "cell_type": "code",
   "execution_count": null,
   "metadata": {
    "scrolled": true
   },
   "outputs": [],
   "source": [
    "ser.readline()\n",
    "ser.readline()\n",
    "load = \"\"\n",
    "while load!=\"Z\":\n",
    "    print(\"Changing Resistance\")\n",
    "    ser.write(proceedbyte)\n",
    "    load = ser.readline().decode().strip()\n",
    "    print(\"Current Resistance :{} Ohms\".format(load))\n",
    "    sleep(7)\n",
    "    print(\"Getting Oscope Capture\")\n",
    "    getscopedf(load)\n",
    "    \n",
    "print(\"Done!\")"
   ]
  }
 ],
 "metadata": {
  "kernelspec": {
   "display_name": "Python 3",
   "language": "python",
   "name": "python3"
  },
  "language_info": {
   "codemirror_mode": {
    "name": "ipython",
    "version": 3
   },
   "file_extension": ".py",
   "mimetype": "text/x-python",
   "name": "python",
   "nbconvert_exporter": "python",
   "pygments_lexer": "ipython3",
   "version": "3.6.8"
  }
 },
 "nbformat": 4,
 "nbformat_minor": 2
}
